{
  "nbformat": 4,
  "nbformat_minor": 0,
  "metadata": {
    "colab": {
      "provenance": []
    },
    "kernelspec": {
      "name": "python3",
      "display_name": "Python 3"
    },
    "language_info": {
      "name": "python"
    },
    "accelerator": "GPU",
    "gpuClass": "standard"
  },
  "cells": [
    {
      "cell_type": "markdown",
      "source": [
        "## Data Cleaning\n",
        "\n"
      ],
      "metadata": {
        "id": "EgL-L7Mi7GkW"
      }
    },
    {
      "cell_type": "code",
      "execution_count": null,
      "metadata": {
        "id": "UbAR5-Y38HHT"
      },
      "outputs": [],
      "source": [
        "#importing necessary libraries\n",
        "\n",
        "import numpy as np\n",
        "import pandas as pd\n",
        "import matplotlib.pyplot as  plt\n",
        "import seaborn as sns\n",
        "from sklearn.model_selection import train_test_split\n",
        "from sklearn.preprocessing import LabelEncoder\n",
        "from sklearn.ensemble import RandomForestRegressor\n",
        "from sklearn.metrics import r2_score,mean_squared_error\n",
        "import warnings\n",
        "warnings.filterwarnings(\"ignore\")\n",
        "\n",
        "df = pd.read_csv('/content/drive/MyDrive/Project_files/Data_Science_Internship - Dump.csv')\n",
        "df=df.drop(\"Unnamed: 0\",axis=1)"
      ]
    },
    {
      "cell_type": "code",
      "source": [
        "filter=df[(df['status'] != 'LOST') & (df['status']!='WON')].index\n",
        "df.drop(filter , inplace=True)\n",
        "\n",
        "for feat in df.columns:\n",
        "    df[feat].fillna(df[feat].mode()[0], inplace=True)\n",
        "df=df.drop(columns='movein',axis=1)\n",
        "\n",
        "#Checking the missing values of dataframe\n",
        "df.isnull().sum()"
      ],
      "metadata": {
        "id": "jJ6i-sS1Spe6",
        "colab": {
          "base_uri": "https://localhost:8080/"
        },
        "outputId": "f24b8cf3-4717-4ddb-f1cc-a81dcc0bcd8e"
      },
      "execution_count": null,
      "outputs": [
        {
          "output_type": "execute_result",
          "data": {
            "text/plain": [
              "Agent_id          0\n",
              "status            0\n",
              "lost_reason       0\n",
              "budget            0\n",
              "lease             0\n",
              "source            0\n",
              "source_city       0\n",
              "source_country    0\n",
              "utm_source        0\n",
              "utm_medium        0\n",
              "des_city          0\n",
              "des_country       0\n",
              "room_type         0\n",
              "lead_id           0\n",
              "dtype: int64"
            ]
          },
          "metadata": {},
          "execution_count": 41
        }
      ]
    },
    {
      "cell_type": "code",
      "source": [
        "#Storing the numerical features of the dataframe\n",
        "\n",
        "categorical_features=[features for features in df.columns if df[features].dtypes=='O']\n",
        "\n",
        "le=LabelEncoder()\n",
        "for feat in categorical_features:\n",
        "    df[feat] = le.fit_transform(df[feat].astype(str))"
      ],
      "metadata": {
        "id": "tcdp4hhfjaIH"
      },
      "execution_count": null,
      "outputs": []
    },
    {
      "cell_type": "markdown",
      "source": [
        "## Feature Selection"
      ],
      "metadata": {
        "id": "dWUEewS37QDH"
      }
    },
    {
      "cell_type": "code",
      "source": [
        "# CALCULATING THE ENTROPY OF ALL THE NON-TARGET COLUMNS\n",
        "\n",
        "from scipy.stats import entropy\n",
        "\n",
        "df2=df.copy()\n",
        "df2 = df2.iloc[:,:]\n",
        "slice_data = df2.iloc[:, 0:df2.shape[1]]\n",
        "entrpy = []\n",
        "\n",
        "for k in range(slice_data.shape[1]):\n",
        "  colom= slice_data[slice_data.columns[k]].tolist()\n",
        "  colom=np.array(colom)\n",
        "  colom = colom.astype('float32')\n",
        "  e=entropy(colom, base=2)\n",
        "  entrpy.append(e)\n",
        "\n",
        "entrpy=np.array(entrpy)\n",
        "\n",
        "#sorting the columns according to entropy\n",
        "\n",
        "sort_index=np.argsort(entrpy)[::-1]\n",
        "sort_index=list(sort_index)\n",
        "\n",
        "sort_index.remove(4)\n"
      ],
      "metadata": {
        "id": "eympv2xHxypM"
      },
      "execution_count": null,
      "outputs": []
    },
    {
      "cell_type": "code",
      "source": [
        "fx=[]\n",
        "for i in range(10):\n",
        "  fx.append(df.columns[sort_index[i]])\n",
        "print(\"Top 10-Features Selected for model training \",fx)"
      ],
      "metadata": {
        "id": "YiryJA9a1vBf",
        "colab": {
          "base_uri": "https://localhost:8080/"
        },
        "outputId": "298fe1ac-1bb8-4909-bf31-c06e84981669"
      },
      "execution_count": null,
      "outputs": [
        {
          "output_type": "stream",
          "name": "stdout",
          "text": [
            "Top 10-Features Selected for model training  ['des_country', 'source', 'utm_source', 'lost_reason', 'source_country', 'source_city', 'budget', 'des_city', 'lead_id', 'Agent_id']\n"
          ]
        }
      ]
    },
    {
      "cell_type": "markdown",
      "source": [
        "## Model Training"
      ],
      "metadata": {
        "id": "PB2O0EFk80zT"
      }
    },
    {
      "cell_type": "code",
      "source": [
        "X=np.array(df[fx])\n",
        "y=df['status']\n",
        "\n",
        "# using the train test split function\n",
        "X_train, X_test, y_train, y_test = train_test_split(X,y , random_state=104,train_size=0.8, shuffle=True)\n",
        "\n",
        "\n",
        "from sklearn.ensemble import RandomForestClassifier\n",
        "\n",
        "# creating a RF classifier\n",
        "clf = RandomForestClassifier(n_estimators = 100)\n",
        "\n",
        "# Training the model on the training dataset\n",
        "\n",
        "# fit function is used to train the model using the training sets as parameters\n",
        "clf.fit(X_train, y_train)\n",
        "\n"
      ],
      "metadata": {
        "id": "r-k0zxOYlFO2",
        "colab": {
          "base_uri": "https://localhost:8080/"
        },
        "outputId": "1d34e515-0d03-4659-e7be-49e7633449ac"
      },
      "execution_count": null,
      "outputs": [
        {
          "output_type": "execute_result",
          "data": {
            "text/plain": [
              "RandomForestClassifier()"
            ],
            "text/html": [
              "<style>#sk-container-id-2 {color: black;background-color: white;}#sk-container-id-2 pre{padding: 0;}#sk-container-id-2 div.sk-toggleable {background-color: white;}#sk-container-id-2 label.sk-toggleable__label {cursor: pointer;display: block;width: 100%;margin-bottom: 0;padding: 0.3em;box-sizing: border-box;text-align: center;}#sk-container-id-2 label.sk-toggleable__label-arrow:before {content: \"▸\";float: left;margin-right: 0.25em;color: #696969;}#sk-container-id-2 label.sk-toggleable__label-arrow:hover:before {color: black;}#sk-container-id-2 div.sk-estimator:hover label.sk-toggleable__label-arrow:before {color: black;}#sk-container-id-2 div.sk-toggleable__content {max-height: 0;max-width: 0;overflow: hidden;text-align: left;background-color: #f0f8ff;}#sk-container-id-2 div.sk-toggleable__content pre {margin: 0.2em;color: black;border-radius: 0.25em;background-color: #f0f8ff;}#sk-container-id-2 input.sk-toggleable__control:checked~div.sk-toggleable__content {max-height: 200px;max-width: 100%;overflow: auto;}#sk-container-id-2 input.sk-toggleable__control:checked~label.sk-toggleable__label-arrow:before {content: \"▾\";}#sk-container-id-2 div.sk-estimator input.sk-toggleable__control:checked~label.sk-toggleable__label {background-color: #d4ebff;}#sk-container-id-2 div.sk-label input.sk-toggleable__control:checked~label.sk-toggleable__label {background-color: #d4ebff;}#sk-container-id-2 input.sk-hidden--visually {border: 0;clip: rect(1px 1px 1px 1px);clip: rect(1px, 1px, 1px, 1px);height: 1px;margin: -1px;overflow: hidden;padding: 0;position: absolute;width: 1px;}#sk-container-id-2 div.sk-estimator {font-family: monospace;background-color: #f0f8ff;border: 1px dotted black;border-radius: 0.25em;box-sizing: border-box;margin-bottom: 0.5em;}#sk-container-id-2 div.sk-estimator:hover {background-color: #d4ebff;}#sk-container-id-2 div.sk-parallel-item::after {content: \"\";width: 100%;border-bottom: 1px solid gray;flex-grow: 1;}#sk-container-id-2 div.sk-label:hover label.sk-toggleable__label {background-color: #d4ebff;}#sk-container-id-2 div.sk-serial::before {content: \"\";position: absolute;border-left: 1px solid gray;box-sizing: border-box;top: 0;bottom: 0;left: 50%;z-index: 0;}#sk-container-id-2 div.sk-serial {display: flex;flex-direction: column;align-items: center;background-color: white;padding-right: 0.2em;padding-left: 0.2em;position: relative;}#sk-container-id-2 div.sk-item {position: relative;z-index: 1;}#sk-container-id-2 div.sk-parallel {display: flex;align-items: stretch;justify-content: center;background-color: white;position: relative;}#sk-container-id-2 div.sk-item::before, #sk-container-id-2 div.sk-parallel-item::before {content: \"\";position: absolute;border-left: 1px solid gray;box-sizing: border-box;top: 0;bottom: 0;left: 50%;z-index: -1;}#sk-container-id-2 div.sk-parallel-item {display: flex;flex-direction: column;z-index: 1;position: relative;background-color: white;}#sk-container-id-2 div.sk-parallel-item:first-child::after {align-self: flex-end;width: 50%;}#sk-container-id-2 div.sk-parallel-item:last-child::after {align-self: flex-start;width: 50%;}#sk-container-id-2 div.sk-parallel-item:only-child::after {width: 0;}#sk-container-id-2 div.sk-dashed-wrapped {border: 1px dashed gray;margin: 0 0.4em 0.5em 0.4em;box-sizing: border-box;padding-bottom: 0.4em;background-color: white;}#sk-container-id-2 div.sk-label label {font-family: monospace;font-weight: bold;display: inline-block;line-height: 1.2em;}#sk-container-id-2 div.sk-label-container {text-align: center;}#sk-container-id-2 div.sk-container {/* jupyter's `normalize.less` sets `[hidden] { display: none; }` but bootstrap.min.css set `[hidden] { display: none !important; }` so we also need the `!important` here to be able to override the default hidden behavior on the sphinx rendered scikit-learn.org. See: https://github.com/scikit-learn/scikit-learn/issues/21755 */display: inline-block !important;position: relative;}#sk-container-id-2 div.sk-text-repr-fallback {display: none;}</style><div id=\"sk-container-id-2\" class=\"sk-top-container\"><div class=\"sk-text-repr-fallback\"><pre>RandomForestClassifier()</pre><b>In a Jupyter environment, please rerun this cell to show the HTML representation or trust the notebook. <br />On GitHub, the HTML representation is unable to render, please try loading this page with nbviewer.org.</b></div><div class=\"sk-container\" hidden><div class=\"sk-item\"><div class=\"sk-estimator sk-toggleable\"><input class=\"sk-toggleable__control sk-hidden--visually\" id=\"sk-estimator-id-2\" type=\"checkbox\" checked><label for=\"sk-estimator-id-2\" class=\"sk-toggleable__label sk-toggleable__label-arrow\">RandomForestClassifier</label><div class=\"sk-toggleable__content\"><pre>RandomForestClassifier()</pre></div></div></div></div></div>"
            ]
          },
          "metadata": {},
          "execution_count": 45
        }
      ]
    },
    {
      "cell_type": "markdown",
      "source": [
        "## Testing"
      ],
      "metadata": {
        "id": "WsPbEPQ0-j5k"
      }
    },
    {
      "cell_type": "code",
      "source": [
        "# performing predictions on the test dataset\n",
        "y_pred = clf.predict(X_test)\n",
        "\n",
        "# metrics are used to find accuracy or error\n",
        "from sklearn import metrics\n",
        "\n",
        "# using metrics module for Model Evaluation\n",
        "print(\"ACCURACY OF THE MODEL: \", metrics.accuracy_score(y_test, y_pred))\n",
        "print(\"PRECISION OF THE MODEL: \", metrics.precision_score(y_test, y_pred))\n",
        "print(\"RECALL OF THE MODEL: \", metrics.recall_score(y_test, y_pred))\n",
        "print(\"F1 SCORE OF THE MODEL: \", metrics.f1_score(y_test, y_pred))\n",
        ""
      ],
      "metadata": {
        "colab": {
          "base_uri": "https://localhost:8080/"
        },
        "id": "2sTt3Rlf9pe5",
        "outputId": "7858e582-c7f5-4c2b-df07-4cf413828e6e"
      },
      "execution_count": null,
      "outputs": [
        {
          "output_type": "stream",
          "name": "stdout",
          "text": [
            "ACCURACY OF THE MODEL:  0.9826208981001727\n",
            "PRECISION OF THE MODEL:  0.8589743589743589\n",
            "RECALL OF THE MODEL:  0.8801313628899836\n",
            "F1 SCORE OF THE MODEL:  0.8694241686942418\n"
          ]
        }
      ]
    },
    {
      "cell_type": "markdown",
      "source": [
        "## Lead Score of X_test"
      ],
      "metadata": {
        "id": "NXTvyDtifb5G"
      }
    },
    {
      "cell_type": "code",
      "source": [
        "lead_score = clf.predict_proba(X_test)\n",
        "lead_score=pd.DataFrame(lead_score)\n",
        "print(\"Lead Score of top 50 X_test:\",np.array(lead_score.head(50)[1]*100))"
      ],
      "metadata": {
        "colab": {
          "base_uri": "https://localhost:8080/"
        },
        "id": "ihwCivRxKRAo",
        "outputId": "6dd78f94-2047-4c08-a838-f55e6e67fc1c"
      },
      "execution_count": null,
      "outputs": [
        {
          "output_type": "stream",
          "name": "stdout",
          "text": [
            "Lead Score of top 50 X_test: [23.  0. 65.  0.  0.  0.  0.  0.  0.  1. 24.  0.  1.  2.  0.  0.  0.  0.\n",
            "  0.  0.  2.  0. 34. 80.  0.  0.  0.  0.  0.  0.  0.  0. 80.  0.  0.  0.\n",
            "  1.  0.  0.  0.  0.  0.  0.  0.  2.  0.  2. 81.  0.  0.]\n"
          ]
        }
      ]
    }
  ]
}